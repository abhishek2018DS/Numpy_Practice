{
 "cells": [
  {
   "cell_type": "markdown",
   "metadata": {},
   "source": [
    "### Handling Large Datasets\n",
    "\n",
    "61. **Use memory-mapped arrays to handle large datasets that don’t fit into RAM.**"
   ]
  },
  {
   "cell_type": "code",
   "execution_count": 1,
   "metadata": {},
   "outputs": [
    {
     "name": "stdout",
     "output_type": "stream",
     "text": [
      "Memory-mapped array loaded:\n",
      "[[0.46904986 0.50610463 0.19230354 ... 0.05345926 0.86922024 0.32299666]\n",
      " [0.03306956 0.48121221 0.13335201 ... 0.59556979 0.77666386 0.60753406]\n",
      " [0.27178225 0.22073499 0.86542861 ... 0.94954508 0.09123997 0.26137299]\n",
      " ...\n",
      " [0.42758915 0.44524973 0.72509501 ... 0.5805393  0.68880136 0.3873468 ]\n",
      " [0.0245044  0.41796409 0.44553429 ... 0.46232153 0.60653977 0.63094818]\n",
      " [0.74529689 0.32045345 0.11521009 ... 0.82690464 0.59307137 0.37760109]]\n"
     ]
    }
   ],
   "source": [
    "import numpy as np\n",
    "\n",
    "# Create a memory-mapped array\n",
    "filename = 'large_dataset.dat'\n",
    "shape = (10000, 10000)\n",
    "dtype = np.float64\n",
    "\n",
    "# Creating a new memory-mapped array\n",
    "large_array = np.memmap(filename, dtype=dtype, mode='w+', shape=shape)\n",
    "\n",
    "# Example of writing data to the memory-mapped array\n",
    "large_array[:] = np.random.rand(*shape)\n",
    "\n",
    "# Flush changes to disk\n",
    "large_array.flush()\n",
    "\n",
    "# Reading data from the memory-mapped array\n",
    "loaded_array = np.memmap(filename, dtype=dtype, mode='r', shape=shape)\n",
    "print(\"Memory-mapped array loaded:\")\n",
    "print(loaded_array)"
   ]
  },
  {
   "cell_type": "markdown",
   "metadata": {},
   "source": [
    "62. **Perform batch processing on large datasets with NumPy.**"
   ]
  },
  {
   "cell_type": "code",
   "execution_count": 2,
   "metadata": {},
   "outputs": [
    {
     "name": "stdout",
     "output_type": "stream",
     "text": [
      "Batch mean: 0.4980195094430185\n",
      "Batch mean: 0.5007727840866029\n",
      "Batch mean: 0.4999730070543666\n",
      "Batch mean: 0.5010107921057971\n",
      "Batch mean: 0.5003541615068549\n",
      "Batch mean: 0.5010029231235742\n",
      "Batch mean: 0.4998494021272701\n",
      "Batch mean: 0.4997786940416838\n",
      "Batch mean: 0.4996790521204079\n",
      "Batch mean: 0.4994175368022695\n"
     ]
    }
   ],
   "source": [
    "import numpy as np\n",
    "\n",
    "# Example large dataset\n",
    "large_array = np.random.rand(1000000)\n",
    "\n",
    "# Function to process data in batches\n",
    "def batch_process(data, batch_size, func):\n",
    "    for i in range(0, len(data), batch_size):\n",
    "        batch = data[i:i+batch_size]\n",
    "        func(batch)\n",
    "\n",
    "# Example processing function\n",
    "def process_batch(batch):\n",
    "    # Example: computing the mean of the batch\n",
    "    batch_mean = np.mean(batch)\n",
    "    print(f\"Batch mean: {batch_mean}\")\n",
    "\n",
    "# Perform batch processing\n",
    "batch_process(large_array, batch_size=100000, func=process_batch)"
   ]
  },
  {
   "cell_type": "markdown",
   "metadata": {},
   "source": [
    "63. **Use NumPy to preprocess data for machine learning models.**"
   ]
  },
  {
   "cell_type": "code",
   "execution_count": 3,
   "metadata": {},
   "outputs": [
    {
     "name": "stdout",
     "output_type": "stream",
     "text": [
      "Normalized data:\n",
      "[[-0.41612542  1.4400142  -1.66851217 -0.59933053  0.08714549]\n",
      " [-1.40449066  0.52050864  1.05966696  1.45289307 -1.51849841]\n",
      " [ 0.59950148 -1.19098327 -1.06305219 -0.08228433 -1.06742622]\n",
      " [-0.89513602  1.57089599  0.33587551  0.8639603  -0.41539926]\n",
      " [ 0.51026759 -1.48181343 -0.78499648  0.05010248  0.40979018]\n",
      " [ 0.22059262 -0.84572851 -0.9404906  -0.74435517 -0.16991596]\n",
      " [ 0.52696524 -0.34609592 -0.18984308 -0.79974085  0.03845424]\n",
      " [ 1.44369785 -1.21641811  0.76776327 -0.33417778  1.62002651]\n",
      " [-1.82672289 -0.24575242  0.35947619  0.41017368 -1.47223408]\n",
      " [ 1.3400738   1.43050949  0.37956034  1.2487955  -1.21920602]\n",
      " [ 1.47175658 -1.2113485  -0.14246784 -1.05346358 -0.87914944]\n",
      " [-0.15540641  1.11790771  0.14061834 -0.5877479   0.29436513]\n",
      " [-1.37123046  1.36679279 -0.92499427 -1.444702    1.25435644]\n",
      " [ 0.0119007   1.68914069 -1.23979719 -0.60441208  1.09375004]\n",
      " [-1.20970608  1.61742425  1.74479865  0.77665634 -0.55626253]\n",
      " [ 1.67384968 -0.43228472 -0.65252396  1.66613592  0.47827247]\n",
      " [-0.35374527 -1.15263293  1.70504577 -0.56091281 -1.73509895]\n",
      " [-1.51380284 -0.53273281 -0.04181488 -0.06906169  0.27936994]\n",
      " [-0.81694791 -1.00269644 -0.37616345  0.18633563  0.10945662]\n",
      " [-0.74235724  1.21061387  0.36122708 -0.68203793 -0.94345733]\n",
      " [ 0.73630965 -0.31204524  0.78964125  1.28643849 -0.82375298]\n",
      " [ 1.04433283 -1.25145958 -0.96490723 -1.32948371  0.60888488]\n",
      " [ 0.33036321 -0.79693788 -0.72684021  1.84102275 -0.80410772]\n",
      " [-1.69175356 -0.29342491  1.39633976 -0.44941042  0.38591632]\n",
      " [-1.21758996  0.48629165  0.27265696  0.31531066  0.35749758]\n",
      " [-0.04940863  1.71056553  0.06167372  0.3569119   1.11758789]\n",
      " [ 0.5281611  -1.32928141 -0.92973697 -0.28791741  0.65120448]\n",
      " [-0.86329313  0.92510988  0.29344894 -1.09147628  1.16329066]\n",
      " [ 0.7642822  -0.69775086  0.79342659  0.87689812 -0.16240529]\n",
      " [ 0.107859   -0.97075714  0.18335505 -1.08810785 -0.75138734]\n",
      " [ 0.76252057 -1.335076   -0.84653007  0.98780888  1.67974096]\n",
      " [-1.37834825  1.37527102 -0.24818041  1.68398666  1.5846746 ]\n",
      " [ 1.51826277 -0.55803942 -1.18617855  1.27925094  0.85323776]\n",
      " [-0.65206363 -1.5039904  -0.19878405 -0.81711413 -0.73750422]\n",
      " [-0.79794694 -0.68818911 -0.35011264 -1.34976441  1.0089961 ]\n",
      " [ 0.65248474 -1.1820212   1.43602816 -0.31181352 -1.08984544]\n",
      " [ 0.622003    0.26474237  1.16213565  0.42372243  0.71583998]\n",
      " [ 0.97119191 -0.08132586 -0.75102211  1.72965198  1.41738791]\n",
      " [-1.70542752  1.73410431 -0.53453614 -0.99967479  0.18563209]\n",
      " [ 0.27353755 -1.31080295 -0.53856425 -1.2450403  -0.79372282]\n",
      " [-0.69984429  0.57992927  0.67516441 -0.78979728 -0.75706983]\n",
      " [ 0.76042573  1.38732552  1.59868564  0.61251828  0.4818848 ]\n",
      " [-0.14543207  1.06700817 -0.66077486  0.25482485 -0.11028208]\n",
      " [-1.64224975 -0.6030565  -0.14676605 -0.10738303 -1.44405437]\n",
      " [ 1.09676376  0.08040337  0.36633834 -0.05653503 -1.27522337]\n",
      " [-0.38157351  1.0788853  -0.60068459 -0.11585189 -0.0286595 ]\n",
      " [ 0.03980221 -0.12672835 -0.46929791  0.86624329 -1.02169691]\n",
      " [ 1.16362405 -0.03083428  0.40195793 -0.99639933 -1.46018337]\n",
      " [ 0.71664407 -1.09138822  0.51550971  0.76746872  1.20392544]\n",
      " [ 1.57247336  1.08477744 -1.7587233  -1.01799786  1.21878348]\n",
      " [-1.06627941  0.22221226  0.92395891 -0.87104321  0.34778351]\n",
      " [-1.09307455 -0.11029379  0.11719098 -0.96771277 -0.51560755]\n",
      " [ 0.84593665 -0.24689435  1.56438487 -0.58344678  1.31066063]\n",
      " [ 0.21980272 -0.30841498 -1.59592946  0.97417198  0.58273687]\n",
      " [-0.61947613 -1.40491729 -1.4355952  -1.35749015  0.36932149]\n",
      " [ 0.00895929  1.15750823  1.61700463 -1.13764238 -1.39007446]\n",
      " [ 1.72753182 -1.32225822 -1.53744581 -1.31255425  1.20641985]\n",
      " [ 0.99072621 -0.84989603  1.65412957  1.25430123  1.54820401]\n",
      " [ 1.04607524 -0.49180676 -1.34832806 -0.74238538 -0.91989643]\n",
      " [-1.50593332 -0.59167843  1.77104063 -1.16637989  0.05258964]\n",
      " [-1.39407774  0.4280612  -0.79362821 -1.21123308 -0.57032876]\n",
      " [-1.01843602  1.2768539  -1.58125683 -0.79809566  0.78805045]\n",
      " [ 1.56196836  0.71713362 -1.11863457  1.78875786 -1.40606678]\n",
      " [ 0.07912972  0.04478583  0.75555115  1.84241822  1.32235515]\n",
      " [-1.06120596 -1.11318203  0.27708787 -1.22265253 -0.88717136]\n",
      " [ 0.87298432  1.33273188 -0.51918565 -1.42089381  1.13835213]\n",
      " [ 0.58291283  0.9349966   0.38513843 -1.57837925  0.89411253]\n",
      " [-0.06211539  1.10767559  1.52213965 -0.09171388  1.48913244]\n",
      " [-1.7136197  -0.43743233 -1.31198214  1.44165574  0.52736786]\n",
      " [ 1.05223663 -0.74380636 -1.15210655 -0.92697137 -1.74599266]\n",
      " [ 0.00974257  0.05283182 -0.94166204  0.36119515  0.5936436 ]\n",
      " [ 0.16839277  1.48962852 -1.5695629   0.64677585 -0.92349154]\n",
      " [ 1.07568091 -0.54234376 -1.61532332  0.50755594  1.71967829]\n",
      " [-0.49732609 -0.59146562  1.59438652  0.22621397  0.07965459]\n",
      " [-1.37972123 -1.01743632  0.43091589 -0.61804282 -0.86242879]\n",
      " [-0.65098387 -0.05184999 -0.15256106 -1.06273474  0.75149139]\n",
      " [ 0.46077719 -0.07443011  0.74860563  0.78411035 -0.93500065]\n",
      " [-0.25687326  0.74461523  1.55857511  0.38663093  1.26279247]\n",
      " [ 0.60918426 -0.6040702   1.36119651  1.42390724 -1.08324649]\n",
      " [ 0.92164189 -1.26012652 -1.49870078  1.42079119 -0.72403125]\n",
      " [ 1.24339907  0.72164403 -0.79728945  1.45049719 -0.50662353]\n",
      " [ 0.09289989  0.05821473  1.09864937  0.25222153 -0.04960955]\n",
      " [ 1.50291315  0.60019855  0.22943908 -1.10460053  1.63066119]\n",
      " [ 0.50587317  0.7571934   0.13188225  0.25440772 -1.12910656]\n",
      " [ 0.25164247 -1.24811075 -0.42820376 -0.14734651  1.13256818]\n",
      " [-0.43472392  0.38798196  0.94914292  1.72416288  0.15122078]\n",
      " [-1.82703583 -1.39898736  0.53654896  1.32367326 -1.61002695]\n",
      " [ 0.6580599   1.56960356 -1.24062986  1.19822035  1.22538753]\n",
      " [ 1.39580053  0.6734786   0.05617956 -0.85323717 -0.40889867]\n",
      " [ 0.57921809  0.09454741  0.42988582 -1.31244361 -0.90302463]\n",
      " [-1.44141869  1.28965472  0.79473533  0.61641928 -1.2412846 ]\n",
      " [-0.65534783  0.57701516  0.02775012 -1.14016202 -1.13964133]\n",
      " [-1.34565899  1.62414382  1.07586471  0.24443387  0.51019442]\n",
      " [-1.65081894 -1.40043334 -1.77233639 -0.55424674 -0.67503488]\n",
      " [ 1.31072368 -0.66362062  1.60482907  0.43991732 -1.01040616]\n",
      " [ 0.35674681  0.58850472 -0.1491068  -1.42894564 -1.1929357 ]\n",
      " [ 0.60973387 -1.23323035  1.71370814 -0.15196125  1.02199186]\n",
      " [-0.97444602  1.54123508 -0.5341004   1.0322878  -1.0340201 ]\n",
      " [ 0.78902209 -1.23424904  0.26365098  0.01988516  1.60530267]\n",
      " [-0.41018796 -0.96814093  0.03589779  1.82658637  0.53934731]]\n"
     ]
    }
   ],
   "source": [
    "import numpy as np\n",
    "\n",
    "# Example dataset\n",
    "data = np.random.rand(100, 5)\n",
    "\n",
    "# Preprocessing: normalize the data to have zero mean and unit variance\n",
    "mean = np.mean(data, axis=0)\n",
    "std = np.std(data, axis=0)\n",
    "normalized_data = (data - mean) / std\n",
    "\n",
    "print(\"Normalized data:\")\n",
    "print(normalized_data)"
   ]
  },
  {
   "cell_type": "markdown",
   "metadata": {},
   "source": [
    "64. **Load a large dataset incrementally and compute summary statistics.**"
   ]
  },
  {
   "cell_type": "code",
   "execution_count": 4,
   "metadata": {},
   "outputs": [
    {
     "name": "stdout",
     "output_type": "stream",
     "text": [
      "Summary statistics:\n",
      "Mean: 0.4998949487601498\n"
     ]
    }
   ],
   "source": [
    "import numpy as np\n",
    "\n",
    "# Simulating loading data in chunks\n",
    "def load_data_in_chunks(file_path, chunk_size):\n",
    "    # Simulating with random data\n",
    "    total_size = 1000000\n",
    "    for i in range(0, total_size, chunk_size):\n",
    "        yield np.random.rand(min(chunk_size, total_size - i))\n",
    "\n",
    "# Initialize summary statistics\n",
    "sum_total = 0\n",
    "count_total = 0\n",
    "\n",
    "# Process data in chunks\n",
    "for chunk in load_data_in_chunks('large_dataset.csv', chunk_size=100000):\n",
    "    sum_total += np.sum(chunk)\n",
    "    count_total += chunk.size\n",
    "\n",
    "# Compute mean\n",
    "mean_total = sum_total / count_total\n",
    "\n",
    "print(\"Summary statistics:\")\n",
    "print(f\"Mean: {mean_total}\")"
   ]
  },
  {
   "cell_type": "markdown",
   "metadata": {},
   "source": [
    "### Miscellaneous\n",
    "\n",
    "65. **Create a custom NumPy dtype.**"
   ]
  },
  {
   "cell_type": "code",
   "execution_count": 5,
   "metadata": {},
   "outputs": [
    {
     "name": "stdout",
     "output_type": "stream",
     "text": [
      "Custom dtype array:\n",
      "[(b'Alice', 25, 5.5) (b'Bob', 30, 6. )]\n"
     ]
    }
   ],
   "source": [
    "import numpy as np\n",
    "\n",
    "# Define a custom dtype for a structured array\n",
    "custom_dtype = np.dtype([('name', 'S10'), ('age', 'i4'), ('height', 'f4')])\n",
    "\n",
    "# Create an array with the custom dtype\n",
    "data = np.array([('Alice', 25, 5.5), ('Bob', 30, 6.0)], dtype=custom_dtype)\n",
    "\n",
    "print(\"Custom dtype array:\")\n",
    "print(data)"
   ]
  },
  {
   "cell_type": "markdown",
   "metadata": {},
   "source": [
    "66. **Implement a NumPy ufunc (universal function).**"
   ]
  },
  {
   "cell_type": "code",
   "execution_count": 6,
   "metadata": {},
   "outputs": [
    {
     "name": "stdout",
     "output_type": "stream",
     "text": [
      "Custom ufunc result:\n",
      "[5 7 9]\n"
     ]
    }
   ],
   "source": [
    "import numpy as np\n",
    "\n",
    "# Define a simple custom ufunc\n",
    "def add_elements(x, y):\n",
    "    return x + y\n",
    "\n",
    "# Vectorize the function to create a ufunc\n",
    "vectorized_add = np.vectorize(add_elements)\n",
    "\n",
    "# Use the custom ufunc\n",
    "a = np.array([1, 2, 3])\n",
    "b = np.array([4, 5, 6])\n",
    "result = vectorized_add(a, b)\n",
    "\n",
    "print(\"Custom ufunc result:\")\n",
    "print(result)"
   ]
  },
  {
   "cell_type": "markdown",
   "metadata": {},
   "source": [
    "67. **Use NumPy with Pandas for data manipulation.**"
   ]
  },
  {
   "cell_type": "code",
   "execution_count": 7,
   "metadata": {},
   "outputs": [
    {
     "name": "stdout",
     "output_type": "stream",
     "text": [
      "Updated DataFrame:\n",
      "          A         B  mean_A_B\n",
      "0  0.596119  0.123851  0.359985\n",
      "1  0.369512  0.849971  0.609741\n",
      "2  0.136907  0.691515  0.414211\n",
      "3  0.991506  0.673133  0.832319\n",
      "4  0.721371  0.225993  0.473682\n"
     ]
    }
   ],
   "source": [
    "import numpy as np\n",
    "import pandas as pd\n",
    "\n",
    "# Create a Pandas DataFrame\n",
    "df = pd.DataFrame({\n",
    "    'A': np.random.rand(5),\n",
    "    'B': np.random.rand(5)\n",
    "})\n",
    "\n",
    "# Convert DataFrame to NumPy array for manipulation\n",
    "array = df.values\n",
    "\n",
    "# Perform row-wise mean calculation\n",
    "row_mean_array = np.mean(array, axis=1)\n",
    "\n",
    "# Update the DataFrame with the result\n",
    "df['mean_A_B'] = row_mean_array\n",
    "\n",
    "print(\"Updated DataFrame:\")\n",
    "print(df)"
   ]
  },
  {
   "cell_type": "markdown",
   "metadata": {},
   "source": [
    "68. **Combine multiple conditions to filter an array (logical operations).**"
   ]
  },
  {
   "cell_type": "code",
   "execution_count": 8,
   "metadata": {},
   "outputs": [
    {
     "name": "stdout",
     "output_type": "stream",
     "text": [
      "Filtered data:\n",
      "[4 5 6 7]\n"
     ]
    }
   ],
   "source": [
    "import numpy as np\n",
    "\n",
    "# Example array\n",
    "data = np.array([1, 2, 3, 4, 5, 6, 7, 8, 9, 10])\n",
    "\n",
    "# Combine multiple conditions\n",
    "filtered_data = data[(data > 3) & (data < 8)]\n",
    "\n",
    "print(\"Filtered data:\")\n",
    "print(filtered_data)"
   ]
  },
  {
   "cell_type": "markdown",
   "metadata": {},
   "source": [
    "\n",
    "69. **Sort an array based on a specific column or row.**"
   ]
  },
  {
   "cell_type": "code",
   "execution_count": 9,
   "metadata": {},
   "outputs": [
    {
     "name": "stdout",
     "output_type": "stream",
     "text": [
      "Array sorted by the second column:\n",
      "[[3 2 1]\n",
      " [6 5 4]\n",
      " [9 8 7]]\n"
     ]
    }
   ],
   "source": [
    "import numpy as np\n",
    "\n",
    "# Example 2D array\n",
    "array = np.array([[3, 2, 1], [6, 5, 4], [9, 8, 7]])\n",
    "\n",
    "# Sort based on the second column\n",
    "sorted_array = array[array[:, 1].argsort()]\n",
    "\n",
    "print(\"Array sorted by the second column:\")\n",
    "print(sorted_array)"
   ]
  },
  {
   "cell_type": "markdown",
   "metadata": {},
   "source": [
    "70. **Use `np.where` to replace elements based on a condition.**"
   ]
  },
  {
   "cell_type": "code",
   "execution_count": 10,
   "metadata": {},
   "outputs": [
    {
     "name": "stdout",
     "output_type": "stream",
     "text": [
      "Array with elements > 3 replaced with 0:\n",
      "[1 2 3 0 0]\n"
     ]
    }
   ],
   "source": [
    "import numpy as np\n",
    "\n",
    "# Example array\n",
    "data = np.array([1, 2, 3, 4, 5])\n",
    "\n",
    "# Replace elements greater than 3 with 0\n",
    "replaced_data = np.where(data > 3, 0, data)\n",
    "\n",
    "print(\"Array with elements > 3 replaced with 0:\")\n",
    "print(replaced_data)"
   ]
  },
  {
   "cell_type": "code",
   "execution_count": null,
   "metadata": {},
   "outputs": [],
   "source": []
  }
 ],
 "metadata": {
  "kernelspec": {
   "display_name": "Python 3",
   "language": "python",
   "name": "python3"
  },
  "language_info": {
   "codemirror_mode": {
    "name": "ipython",
    "version": 3
   },
   "file_extension": ".py",
   "mimetype": "text/x-python",
   "name": "python",
   "nbconvert_exporter": "python",
   "pygments_lexer": "ipython3",
   "version": "3.6.9"
  }
 },
 "nbformat": 4,
 "nbformat_minor": 4
}
