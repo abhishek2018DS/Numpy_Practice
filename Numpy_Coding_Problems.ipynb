{
 "cells": [
  {
   "cell_type": "markdown",
   "metadata": {},
   "source": [
    "## Practice set 1"
   ]
  },
  {
   "cell_type": "markdown",
   "metadata": {},
   "source": [
    "### Array Creation and Attributes\n",
    "\n",
    "1. **Create a 1D array of numbers from 0 to 9.**\n",
    "2. **Create a 2D array of shape (3, 3) with all elements as zeros.**\n",
    "3. **Create a 2D array of shape (3, 3) with all elements as ones.**\n",
    "4. **Create a 3x3 identity matrix.**\n",
    "5. **Create an array of 10 random numbers between 0 and 1.**\n",
    "\n",
    "### Array Indexing and Slicing\n",
    "\n",
    "6. **Extract all the odd numbers from an array.**\n",
    "7. **Replace all odd numbers in an array with -1.**\n",
    "8. **Reverse an array.**\n",
    "9. **Select all rows of a 2D array where the first column is greater than 0.5.**\n",
    "10. **Select elements from an array that are greater than the mean of the array.**\n",
    "\n",
    "### Array Manipulation\n",
    "\n",
    "11. **Reshape a 1D array of size 9 into a 3x3 matrix.**\n",
    "12. **Flatten a 2D array into a 1D array.**\n",
    "13. **Concatenate two arrays along the second axis.**\n",
    "14. **Stack two arrays vertically.**\n",
    "15. **Split an array into three equal parts.**"
   ]
  },
  {
   "cell_type": "markdown",
   "metadata": {},
   "source": [
    "## Practice Set 2"
   ]
  },
  {
   "cell_type": "markdown",
   "metadata": {},
   "source": [
    "### Mathematical Operations\n",
    "\n",
    "16. **Add two matrices element-wise.**\n",
    "17. **Multiply two matrices element-wise.**\n",
    "18. **Compute the dot product of two arrays.**\n",
    "19. **Compute the element-wise square root of an array.**\n",
    "20. **Compute the cumulative sum of an array.**\n",
    "\n",
    "### Statistical Functions\n",
    "\n",
    "21. **Find the mean of a 1D array.**\n",
    "22. **Find the standard deviation of a 1D array.**\n",
    "23. **Find the median of a 1D array.**\n",
    "24. **Find the sum of each row in a 2D array.**\n",
    "25. **Find the maximum element in a 1D array and its index.**\n",
    "\n",
    "### Broadcasting and Vectorization\n",
    "\n",
    "26. **Subtract the mean of each row of a 2D array.**\n",
    "27. **Normalize a 2D array to have values between 0 and 1.**\n",
    "28. **Add a 1D array to each row of a 2D array.**\n",
    "29. **Multiply a 2D array by a 1D array element-wise.**\n",
    "30. **Compute the Euclidean distance between two arrays.**"
   ]
  },
  {
   "cell_type": "markdown",
   "metadata": {},
   "source": [
    "## Practice Set 3"
   ]
  },
  {
   "cell_type": "markdown",
   "metadata": {},
   "source": [
    "### Random Number Generation\n",
    "\n",
    "31. **Generate an array of 10 random integers between 1 and 100.**\n",
    "32. **Create a random permutation of an array.**\n",
    "33. **Sample 5 random elements from an array without replacement.**\n",
    "34. **Set a random seed and generate a random array.**\n",
    "35. **Generate a 2D array of random numbers from a normal distribution.**\n",
    "\n",
    "### File I/O\n",
    "\n",
    "36. **Save a NumPy array to a text file.**\n",
    "37. **Load a NumPy array from a text file.**\n",
    "38. **Save a NumPy array to a binary file with `.npy` extension.**\n",
    "39. **Load a NumPy array from a binary file with `.npy` extension.**\n",
    "40. **Save a 2D NumPy array to a CSV file.**\n",
    "\n",
    "### Advanced Array Manipulation\n",
    "\n",
    "41. **Rotate a 2D array by 90 degrees.**\n",
    "42. **Remove all rows in a 2D array that contain NaN values.**\n",
    "43. **Replace NaN values in a NumPy array with the mean of that array.**\n",
    "44. **Find the unique elements in an array and return their counts.**\n",
    "45. **Compute the inverse of a matrix.**"
   ]
  },
  {
   "cell_type": "markdown",
   "metadata": {},
   "source": [
    "## Practice Set 4"
   ]
  },
  {
   "cell_type": "markdown",
   "metadata": {},
   "source": [
    "### Linear Algebra\n",
    "\n",
    "46. **Solve a system of linear equations.**\n",
    "47. **Compute the eigenvalues and eigenvectors of a matrix.**\n",
    "48. **Perform a Singular Value Decomposition (SVD) of a matrix.**\n",
    "49. **Compute the determinant of a matrix.**\n",
    "50. **Calculate the rank of a matrix.**\n",
    "\n",
    "### Performance Optimization\n",
    "\n",
    "51. **Compare the performance of a NumPy vectorized operation with a Python loop.**\n",
    "52. **Optimize a computation-heavy operation using NumPy’s vectorized functions.**\n",
    "\n",
    "### Random Number Generation and Probability\n",
    "\n",
    "53. **Simulate a random walk using NumPy.**\n",
    "54. **Generate a random sample from a given probability distribution.**\n",
    "55. **Compute the probability of an event from a given dataset.**\n",
    "\n",
    "### Image Processing with NumPy\n",
    "\n",
    "56. **Read an image file into a NumPy array.**\n",
    "57. **Convert an image from RGB to grayscale using NumPy.**\n",
    "58. **Apply a Gaussian blur to an image using a convolution operation.**\n",
    "59. **Detect edges in an image using a Sobel filter.**\n",
    "60. **Resize an image using nearest-neighbor interpolation.**"
   ]
  },
  {
   "cell_type": "markdown",
   "metadata": {},
   "source": [
    "## Practice Set 5"
   ]
  },
  {
   "cell_type": "markdown",
   "metadata": {},
   "source": [
    "### Handling Large Datasets\n",
    "\n",
    "61. **Use memory-mapped arrays to handle large datasets that don’t fit into RAM.**\n",
    "62. **Perform batch processing on large datasets with NumPy.**\n",
    "63. **Use NumPy to preprocess data for machine learning models.**\n",
    "64. **Load a large dataset incrementally and compute summary statistics.**\n",
    "\n",
    "### Miscellaneous\n",
    "\n",
    "65. **Create a custom NumPy dtype.**\n",
    "66. **Implement a NumPy ufunc (universal function).**\n",
    "67. **Use NumPy with Pandas for data manipulation.**\n",
    "68. **Combine multiple conditions to filter an array (logical operations).**\n",
    "69. **Sort an array based on a specific column or row.**\n",
    "70. **Use `np.where` to replace elements based on a condition.**"
   ]
  },
  {
   "cell_type": "code",
   "execution_count": null,
   "metadata": {},
   "outputs": [],
   "source": []
  }
 ],
 "metadata": {
  "kernelspec": {
   "display_name": "Python 3",
   "language": "python",
   "name": "python3"
  },
  "language_info": {
   "codemirror_mode": {
    "name": "ipython",
    "version": 3
   },
   "file_extension": ".py",
   "mimetype": "text/x-python",
   "name": "python",
   "nbconvert_exporter": "python",
   "pygments_lexer": "ipython3",
   "version": "3.6.9"
  }
 },
 "nbformat": 4,
 "nbformat_minor": 4
}
