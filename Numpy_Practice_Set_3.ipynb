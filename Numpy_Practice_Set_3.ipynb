{
 "cells": [
  {
   "cell_type": "markdown",
   "metadata": {},
   "source": [
    "### Random Number Generation\n",
    "\n",
    "31. **Generate an array of 10 random integers between 1 and 100.**"
   ]
  },
  {
   "cell_type": "code",
   "execution_count": 1,
   "metadata": {},
   "outputs": [
    {
     "name": "stdout",
     "output_type": "stream",
     "text": [
      "Array of 10 random integers between 1 and 100:\n",
      "[56 58 25 18  4 60 66 35 27 84]\n"
     ]
    }
   ],
   "source": [
    "import numpy as np\n",
    "\n",
    "random_integers = np.random.randint(1, 101, size=10)\n",
    "print(\"Array of 10 random integers between 1 and 100:\")\n",
    "print(random_integers)"
   ]
  },
  {
   "cell_type": "markdown",
   "metadata": {},
   "source": [
    "\n",
    "32. **Create a random permutation of an array.**"
   ]
  },
  {
   "cell_type": "code",
   "execution_count": 2,
   "metadata": {},
   "outputs": [
    {
     "name": "stdout",
     "output_type": "stream",
     "text": [
      "\n",
      "Random permutation of an array:\n",
      "[2 4 3 1 5]\n"
     ]
    }
   ],
   "source": [
    "array = np.array([1, 2, 3, 4, 5])\n",
    "random_permutation = np.random.permutation(array)\n",
    "print(\"\\nRandom permutation of an array:\")\n",
    "print(random_permutation)"
   ]
  },
  {
   "cell_type": "markdown",
   "metadata": {},
   "source": [
    "33. **Sample 5 random elements from an array without replacement.**"
   ]
  },
  {
   "cell_type": "code",
   "execution_count": 3,
   "metadata": {},
   "outputs": [
    {
     "name": "stdout",
     "output_type": "stream",
     "text": [
      "\n",
      "Sample 5 random elements from an array without replacement:\n",
      "[ 6  2 10  3  5]\n"
     ]
    }
   ],
   "source": [
    "array = np.array([1, 2, 3, 4, 5, 6, 7, 8, 9, 10])\n",
    "random_sample = np.random.choice(array, size=5, replace=False)\n",
    "print(\"\\nSample 5 random elements from an array without replacement:\")\n",
    "print(random_sample)"
   ]
  },
  {
   "cell_type": "markdown",
   "metadata": {},
   "source": [
    "34. **Set a random seed and generate a random array.**"
   ]
  },
  {
   "cell_type": "code",
   "execution_count": 4,
   "metadata": {},
   "outputs": [
    {
     "name": "stdout",
     "output_type": "stream",
     "text": [
      "\n",
      "Random array with seed set to 42:\n",
      "[0.37454012 0.95071431 0.73199394 0.59865848 0.15601864]\n"
     ]
    }
   ],
   "source": [
    "np.random.seed(42)\n",
    "random_array = np.random.rand(5)\n",
    "print(\"\\nRandom array with seed set to 42:\")\n",
    "print(random_array)"
   ]
  },
  {
   "cell_type": "markdown",
   "metadata": {},
   "source": [
    "35. **Generate a 2D array of random numbers from a normal distribution.**"
   ]
  },
  {
   "cell_type": "code",
   "execution_count": 5,
   "metadata": {},
   "outputs": [
    {
     "name": "stdout",
     "output_type": "stream",
     "text": [
      "\n",
      "2D array of random numbers from a normal distribution:\n",
      "[[ 0.27904129  1.01051528 -0.58087813 -0.52516981]\n",
      " [-0.57138017 -0.92408284 -2.61254901  0.95036968]\n",
      " [ 0.81644508 -1.523876   -0.42804606 -0.74240684]]\n"
     ]
    }
   ],
   "source": [
    "normal_random_array = np.random.randn(3, 4)\n",
    "print(\"\\n2D array of random numbers from a normal distribution:\")\n",
    "print(normal_random_array)"
   ]
  },
  {
   "cell_type": "markdown",
   "metadata": {},
   "source": [
    "### File I/O\n",
    "\n",
    "36. **Save a NumPy array to a text file.**"
   ]
  },
  {
   "cell_type": "code",
   "execution_count": 6,
   "metadata": {},
   "outputs": [
    {
     "name": "stdout",
     "output_type": "stream",
     "text": [
      "\n",
      "Saved array to 'array.txt'.\n"
     ]
    }
   ],
   "source": [
    "array_to_save = np.array([1, 2, 3, 4, 5])\n",
    "np.savetxt('array.txt', array_to_save)\n",
    "print(\"\\nSaved array to 'array.txt'.\")"
   ]
  },
  {
   "cell_type": "markdown",
   "metadata": {},
   "source": [
    "37. **Load a NumPy array from a text file.**"
   ]
  },
  {
   "cell_type": "code",
   "execution_count": 7,
   "metadata": {},
   "outputs": [
    {
     "name": "stdout",
     "output_type": "stream",
     "text": [
      "\n",
      "Loaded array from 'array.txt':\n",
      "[1. 2. 3. 4. 5.]\n"
     ]
    }
   ],
   "source": [
    "loaded_array = np.loadtxt('array.txt')\n",
    "print(\"\\nLoaded array from 'array.txt':\")\n",
    "print(loaded_array)"
   ]
  },
  {
   "cell_type": "markdown",
   "metadata": {},
   "source": [
    "\n",
    "38. **Save a NumPy array to a binary file with .npy extension.**"
   ]
  },
  {
   "cell_type": "code",
   "execution_count": 8,
   "metadata": {},
   "outputs": [
    {
     "name": "stdout",
     "output_type": "stream",
     "text": [
      "\n",
      "Saved array to 'array.npy'.\n"
     ]
    }
   ],
   "source": [
    "np.save('array.npy', array_to_save)\n",
    "print(\"\\nSaved array to 'array.npy'.\")"
   ]
  },
  {
   "cell_type": "markdown",
   "metadata": {},
   "source": [
    "39. **Load a NumPy array from a binary file with .npy extension.**"
   ]
  },
  {
   "cell_type": "code",
   "execution_count": 9,
   "metadata": {},
   "outputs": [
    {
     "name": "stdout",
     "output_type": "stream",
     "text": [
      "\n",
      "Loaded array from 'array.npy':\n",
      "[1 2 3 4 5]\n"
     ]
    }
   ],
   "source": [
    "loaded_array_npy = np.load('array.npy')\n",
    "print(\"\\nLoaded array from 'array.npy':\")\n",
    "print(loaded_array_npy)"
   ]
  },
  {
   "cell_type": "markdown",
   "metadata": {},
   "source": [
    "\n",
    "40. **Save a 2D NumPy array to a CSV file.**"
   ]
  },
  {
   "cell_type": "code",
   "execution_count": 10,
   "metadata": {},
   "outputs": [
    {
     "name": "stdout",
     "output_type": "stream",
     "text": [
      "\n",
      "Saved 2D array to 'array_2d.csv'.\n"
     ]
    }
   ],
   "source": [
    "array_2d = np.array([[1, 2, 3], [4, 5, 6]])\n",
    "np.savetxt('array_2d.csv', array_2d, delimiter=',')\n",
    "print(\"\\nSaved 2D array to 'array_2d.csv'.\")"
   ]
  },
  {
   "cell_type": "markdown",
   "metadata": {},
   "source": [
    "### Advanced Array Manipulation\n",
    "\n",
    "41. **Rotate a 2D array by 90 degrees.**"
   ]
  },
  {
   "cell_type": "code",
   "execution_count": 11,
   "metadata": {},
   "outputs": [
    {
     "name": "stdout",
     "output_type": "stream",
     "text": [
      "\n",
      "2D array rotated by 90 degrees:\n",
      "[[3 6 9]\n",
      " [2 5 8]\n",
      " [1 4 7]]\n"
     ]
    }
   ],
   "source": [
    "array_2d = np.array([[1, 2, 3], [4, 5, 6], [7, 8, 9]])\n",
    "rotated_array = np.rot90(array_2d)\n",
    "print(\"\\n2D array rotated by 90 degrees:\")\n",
    "print(rotated_array)"
   ]
  },
  {
   "cell_type": "markdown",
   "metadata": {},
   "source": [
    "42. **Remove all rows in a 2D array that contain NaN values.**"
   ]
  },
  {
   "cell_type": "code",
   "execution_count": 12,
   "metadata": {},
   "outputs": [
    {
     "name": "stdout",
     "output_type": "stream",
     "text": [
      "\n",
      "2D array with rows containing NaN values removed:\n",
      "[[1. 2. 3.]\n",
      " [7. 8. 9.]]\n"
     ]
    }
   ],
   "source": [
    "array_with_nan = np.array([[1, 2, 3], [4, np.nan, 6], [7, 8, 9]])\n",
    "cleaned_array = array_with_nan[~np.isnan(array_with_nan).any(axis=1)]\n",
    "print(\"\\n2D array with rows containing NaN values removed:\")\n",
    "print(cleaned_array)"
   ]
  },
  {
   "cell_type": "markdown",
   "metadata": {},
   "source": [
    "43. **Replace NaN values in a NumPy array with the mean of that array.**"
   ]
  },
  {
   "cell_type": "code",
   "execution_count": 13,
   "metadata": {},
   "outputs": [
    {
     "name": "stdout",
     "output_type": "stream",
     "text": [
      "\n",
      "Array with NaN values replaced with the mean of the array:\n",
      "[1. 2. 3. 4. 5.]\n"
     ]
    }
   ],
   "source": [
    "array_with_nan = np.array([1, 2, np.nan, 4, 5])\n",
    "nan_mask = np.isnan(array_with_nan)\n",
    "array_with_nan[nan_mask] = np.nanmean(array_with_nan)\n",
    "print(\"\\nArray with NaN values replaced with the mean of the array:\")\n",
    "print(array_with_nan)"
   ]
  },
  {
   "cell_type": "markdown",
   "metadata": {},
   "source": [
    "44. **Find the unique elements in an array and return their counts.**"
   ]
  },
  {
   "cell_type": "code",
   "execution_count": 14,
   "metadata": {},
   "outputs": [
    {
     "name": "stdout",
     "output_type": "stream",
     "text": [
      "\n",
      "Unique elements and their counts in the array:\n",
      "Elements: [1 2 3 4]\n",
      "Counts: [1 2 3 4]\n"
     ]
    }
   ],
   "source": [
    "array = np.array([1, 2, 2, 3, 3, 3, 4, 4, 4, 4])\n",
    "unique_elements, counts = np.unique(array, return_counts=True)\n",
    "print(\"\\nUnique elements and their counts in the array:\")\n",
    "print(\"Elements:\", unique_elements)\n",
    "print(\"Counts:\", counts)"
   ]
  },
  {
   "cell_type": "markdown",
   "metadata": {},
   "source": [
    "45. **Compute the inverse of a matrix.**"
   ]
  },
  {
   "cell_type": "markdown",
   "metadata": {},
   "source": [
    "\n",
    "\n",
    "\n",
    "```python\n",
    "\n",
    "```\n",
    "\n",
    "\n",
    "```python\n",
    "\n",
    "```\n",
    "\n",
    "\n",
    "```python\n",
    "\n",
    "```\n",
    "\n",
    "\n",
    "```python\n",
    "\n",
    "```\n",
    "\n",
    "\n",
    "```python\n",
    "matrix = np.array([[1, 2], [3, 4]])\n",
    "matrix_inverse = np.linalg.inv(matrix)\n",
    "print(\"\\nInverse of the matrix:\")\n",
    "print(matrix_inverse)\n",
    "```\n",
    "\n",
    "You can copy and run these code snippets in a Python environment to see the results. Make sure you have NumPy installed (`pip install numpy`) and note that file I/O operations will create files in your current working directory."
   ]
  }
 ],
 "metadata": {
  "kernelspec": {
   "display_name": "Python 3",
   "language": "python",
   "name": "python3"
  },
  "language_info": {
   "codemirror_mode": {
    "name": "ipython",
    "version": 3
   },
   "file_extension": ".py",
   "mimetype": "text/x-python",
   "name": "python",
   "nbconvert_exporter": "python",
   "pygments_lexer": "ipython3",
   "version": "3.6.9"
  }
 },
 "nbformat": 4,
 "nbformat_minor": 4
}
