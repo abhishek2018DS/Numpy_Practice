{
 "cells": [
  {
   "cell_type": "markdown",
   "metadata": {},
   "source": [
    "### Array Creation and Attributes"
   ]
  },
  {
   "cell_type": "markdown",
   "metadata": {},
   "source": [
    "1. **Create a 1D array of numbers from 0 to 9.**"
   ]
  },
  {
   "cell_type": "code",
   "execution_count": 1,
   "metadata": {},
   "outputs": [
    {
     "name": "stdout",
     "output_type": "stream",
     "text": [
      "1D array from 0 to 9: [0 1 2 3 4 5 6 7 8 9]\n"
     ]
    }
   ],
   "source": [
    "import numpy as np\n",
    "\n",
    "# Solution\n",
    "array_1d = np.arange(10)\n",
    "print(\"1D array from 0 to 9:\", array_1d)"
   ]
  },
  {
   "cell_type": "markdown",
   "metadata": {},
   "source": [
    "2. **Create a 2D array of shape (3, 3) with all elements as zeros.**"
   ]
  },
  {
   "cell_type": "code",
   "execution_count": 2,
   "metadata": {},
   "outputs": [
    {
     "name": "stdout",
     "output_type": "stream",
     "text": [
      "2D array of zeros (3x3):\n",
      " [[0. 0. 0.]\n",
      " [0. 0. 0.]\n",
      " [0. 0. 0.]]\n"
     ]
    }
   ],
   "source": [
    "array_zeros = np.zeros((3, 3))\n",
    "print(\"2D array of zeros (3x3):\\n\", array_zeros)"
   ]
  },
  {
   "cell_type": "markdown",
   "metadata": {},
   "source": [
    "3. **Create a 2D array of shape (3, 3) with all elements as ones.**"
   ]
  },
  {
   "cell_type": "code",
   "execution_count": 3,
   "metadata": {},
   "outputs": [
    {
     "name": "stdout",
     "output_type": "stream",
     "text": [
      "2D array of ones (3x3):\n",
      " [[1. 1. 1.]\n",
      " [1. 1. 1.]\n",
      " [1. 1. 1.]]\n"
     ]
    }
   ],
   "source": [
    "array_ones = np.ones((3, 3))\n",
    "print(\"2D array of ones (3x3):\\n\", array_ones)"
   ]
  },
  {
   "cell_type": "markdown",
   "metadata": {},
   "source": [
    "4. **Create a 3x3 identity matrix.**"
   ]
  },
  {
   "cell_type": "code",
   "execution_count": 4,
   "metadata": {},
   "outputs": [
    {
     "name": "stdout",
     "output_type": "stream",
     "text": [
      "3x3 identity matrix:\n",
      " [[1. 0. 0.]\n",
      " [0. 1. 0.]\n",
      " [0. 0. 1.]]\n"
     ]
    }
   ],
   "source": [
    "identity_matrix = np.eye(3)\n",
    "print(\"3x3 identity matrix:\\n\", identity_matrix)"
   ]
  },
  {
   "cell_type": "markdown",
   "metadata": {},
   "source": [
    "\n",
    "5. **Create an array of 10 random numbers between 0 and 1.**"
   ]
  },
  {
   "cell_type": "code",
   "execution_count": 5,
   "metadata": {},
   "outputs": [
    {
     "name": "stdout",
     "output_type": "stream",
     "text": [
      "Array of 10 random numbers between 0 and 1: [0.19327293 0.49203766 0.29895788 0.29007927 0.74724025 0.91865238\n",
      " 0.262862   0.04920872 0.1130399  0.2021638 ]\n"
     ]
    }
   ],
   "source": [
    "random_array = np.random.rand(10)\n",
    "print(\"Array of 10 random numbers between 0 and 1:\", random_array)"
   ]
  },
  {
   "cell_type": "markdown",
   "metadata": {},
   "source": [
    "### Array Indexing and Slicing\n",
    "\n",
    "6. **Extract all the odd numbers from an array.**"
   ]
  },
  {
   "cell_type": "code",
   "execution_count": 6,
   "metadata": {},
   "outputs": [
    {
     "name": "stdout",
     "output_type": "stream",
     "text": [
      "Odd numbers in the array: [1 3 5 7 9]\n"
     ]
    }
   ],
   "source": [
    "import numpy as np\n",
    "\n",
    "# Create a sample array\n",
    "array = np.array([0, 1, 2, 3, 4, 5, 6, 7, 8, 9])\n",
    "\n",
    "# Solution: Extract odd numbers\n",
    "odd_numbers = array[array % 2 != 0]\n",
    "print(\"Odd numbers in the array:\", odd_numbers)"
   ]
  },
  {
   "cell_type": "markdown",
   "metadata": {},
   "source": [
    "7. **Replace all odd numbers in an array with -1.**"
   ]
  },
  {
   "cell_type": "code",
   "execution_count": 7,
   "metadata": {},
   "outputs": [
    {
     "name": "stdout",
     "output_type": "stream",
     "text": [
      "Array after replacing odd numbers with -1: [ 0 -1  2 -1  4 -1  6 -1  8 -1]\n"
     ]
    }
   ],
   "source": [
    "# Create a sample array\n",
    "array = np.array([0, 1, 2, 3, 4, 5, 6, 7, 8, 9])\n",
    "\n",
    "# Solution: Replace odd numbers with -1\n",
    "array[array % 2 != 0] = -1\n",
    "print(\"Array after replacing odd numbers with -1:\", array)"
   ]
  },
  {
   "cell_type": "markdown",
   "metadata": {},
   "source": [
    "8. **Reverse an array.**"
   ]
  },
  {
   "cell_type": "code",
   "execution_count": 8,
   "metadata": {},
   "outputs": [
    {
     "name": "stdout",
     "output_type": "stream",
     "text": [
      "Reversed array: [9 8 7 6 5 4 3 2 1 0]\n"
     ]
    }
   ],
   "source": [
    "# Create a sample array\n",
    "array = np.array([0, 1, 2, 3, 4, 5, 6, 7, 8, 9])\n",
    "\n",
    "# Solution: Reverse the array\n",
    "reversed_array = array[::-1]\n",
    "print(\"Reversed array:\", reversed_array)"
   ]
  },
  {
   "cell_type": "markdown",
   "metadata": {},
   "source": [
    "\n",
    "9. **Select all rows of a 2D array where the first column is greater than 0.5.**"
   ]
  },
  {
   "cell_type": "code",
   "execution_count": 9,
   "metadata": {},
   "outputs": [
    {
     "name": "stdout",
     "output_type": "stream",
     "text": [
      "Rows where the first column is greater than 0.5:\n",
      " [[0.6 0.4 0.8]\n",
      " [0.9 1.2 0.5]]\n"
     ]
    }
   ],
   "source": [
    "# Create a sample 2D array\n",
    "array_2d = np.array([[0.2, 1.5, 2.3],\n",
    "                     [0.6, 0.4, 0.8],\n",
    "                     [0.9, 1.2, 0.5]])\n",
    "\n",
    "# Solution: Select rows where the first column is greater than 0.5\n",
    "selected_rows = array_2d[array_2d[:, 0] > 0.5]\n",
    "print(\"Rows where the first column is greater than 0.5:\\n\", selected_rows)"
   ]
  },
  {
   "cell_type": "markdown",
   "metadata": {},
   "source": [
    "10. **Select elements from an array that are greater than the mean of the array.**"
   ]
  },
  {
   "cell_type": "code",
   "execution_count": 10,
   "metadata": {},
   "outputs": [
    {
     "name": "stdout",
     "output_type": "stream",
     "text": [
      "Elements greater than the mean: [5 6 7 8 9]\n"
     ]
    }
   ],
   "source": [
    "# Create a sample array\n",
    "array = np.array([0, 1, 2, 3, 4, 5, 6, 7, 8, 9])\n",
    "\n",
    "# Solution: Select elements greater than the mean\n",
    "mean_value = array.mean()\n",
    "elements_greater_than_mean = array[array > mean_value]\n",
    "print(\"Elements greater than the mean:\", elements_greater_than_mean)"
   ]
  },
  {
   "cell_type": "markdown",
   "metadata": {},
   "source": [
    "### Array Manipulation\n",
    "\n",
    "11. **Reshape a 1D array of size 9 into a 3x3 matrix.**"
   ]
  },
  {
   "cell_type": "code",
   "execution_count": 11,
   "metadata": {},
   "outputs": [
    {
     "name": "stdout",
     "output_type": "stream",
     "text": [
      "Reshaped 3x3 matrix:\n",
      " [[0 1 2]\n",
      " [3 4 5]\n",
      " [6 7 8]]\n"
     ]
    }
   ],
   "source": [
    "import numpy as np\n",
    "\n",
    "# Create a 1D array of size 9\n",
    "array_1d = np.arange(9)\n",
    "\n",
    "# Solution: Reshape the 1D array into a 3x3 matrix\n",
    "matrix_3x3 = array_1d.reshape((3, 3))\n",
    "print(\"Reshaped 3x3 matrix:\\n\", matrix_3x3)"
   ]
  },
  {
   "cell_type": "markdown",
   "metadata": {},
   "source": [
    "12. **Flatten a 2D array into a 1D array.**"
   ]
  },
  {
   "cell_type": "code",
   "execution_count": 12,
   "metadata": {},
   "outputs": [
    {
     "name": "stdout",
     "output_type": "stream",
     "text": [
      "Flattened 1D array: [1 2 3 4 5 6 7 8 9]\n"
     ]
    }
   ],
   "source": [
    "# Create a sample 2D array\n",
    "array_2d = np.array([[1, 2, 3], [4, 5, 6], [7, 8, 9]])\n",
    "\n",
    "# Solution: Flatten the 2D array into a 1D array\n",
    "array_1d_flattened = array_2d.flatten()\n",
    "print(\"Flattened 1D array:\", array_1d_flattened)"
   ]
  },
  {
   "cell_type": "markdown",
   "metadata": {},
   "source": [
    "13. **Concatenate two arrays along the second axis.**"
   ]
  },
  {
   "cell_type": "code",
   "execution_count": 13,
   "metadata": {},
   "outputs": [
    {
     "name": "stdout",
     "output_type": "stream",
     "text": [
      "Concatenated array along the second axis:\n",
      " [[1 2 5 6]\n",
      " [3 4 7 8]]\n"
     ]
    }
   ],
   "source": [
    "# Create two sample 2D arrays\n",
    "array_1 = np.array([[1, 2], [3, 4]])\n",
    "array_2 = np.array([[5, 6], [7, 8]])\n",
    "\n",
    "# Solution: Concatenate the two arrays along the second axis (axis=1)\n",
    "concatenated_array = np.concatenate((array_1, array_2), axis=1)\n",
    "print(\"Concatenated array along the second axis:\\n\", concatenated_array)"
   ]
  },
  {
   "cell_type": "markdown",
   "metadata": {},
   "source": [
    "14. **Stack two arrays vertically.**"
   ]
  },
  {
   "cell_type": "code",
   "execution_count": 14,
   "metadata": {},
   "outputs": [
    {
     "name": "stdout",
     "output_type": "stream",
     "text": [
      "Stacked array vertically:\n",
      " [[1 2]\n",
      " [3 4]\n",
      " [5 6]\n",
      " [7 8]]\n"
     ]
    }
   ],
   "source": [
    "array_1 = np.array([[1, 2], [3, 4]])\n",
    "array_2 = np.array([[5, 6], [7, 8]])\n",
    "\n",
    "# Solution: Stack the two arrays vertically\n",
    "stacked_array = np.vstack((array_1, array_2))\n",
    "print(\"Stacked array vertically:\\n\", stacked_array)"
   ]
  },
  {
   "cell_type": "markdown",
   "metadata": {},
   "source": [
    "15. **Split an array into three equal parts.**"
   ]
  },
  {
   "cell_type": "code",
   "execution_count": 15,
   "metadata": {},
   "outputs": [
    {
     "name": "stdout",
     "output_type": "stream",
     "text": [
      "Split array into three equal parts:\n",
      "[0 1 2]\n",
      "[3 4 5]\n",
      "[6 7 8]\n"
     ]
    }
   ],
   "source": [
    "# Create a sample array of size 9\n",
    "array = np.arange(9)\n",
    "\n",
    "# Solution: Split the array into three equal parts\n",
    "split_arrays = np.array_split(array, 3)\n",
    "print(\"Split array into three equal parts:\")\n",
    "for part in split_arrays:\n",
    "    print(part)"
   ]
  },
  {
   "cell_type": "code",
   "execution_count": null,
   "metadata": {},
   "outputs": [],
   "source": []
  }
 ],
 "metadata": {
  "kernelspec": {
   "display_name": "Python 3",
   "language": "python",
   "name": "python3"
  },
  "language_info": {
   "codemirror_mode": {
    "name": "ipython",
    "version": 3
   },
   "file_extension": ".py",
   "mimetype": "text/x-python",
   "name": "python",
   "nbconvert_exporter": "python",
   "pygments_lexer": "ipython3",
   "version": "3.6.9"
  }
 },
 "nbformat": 4,
 "nbformat_minor": 4
}
